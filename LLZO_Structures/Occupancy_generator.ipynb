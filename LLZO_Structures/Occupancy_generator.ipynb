{
  "nbformat": 4,
  "nbformat_minor": 0,
  "metadata": {
    "colab": {
      "provenance": [],
      "include_colab_link": true
    },
    "kernelspec": {
      "name": "python3",
      "display_name": "Python 3"
    },
    "language_info": {
      "name": "python"
    }
  },
  "cells": [
    {
      "cell_type": "markdown",
      "metadata": {
        "id": "view-in-github",
        "colab_type": "text"
      },
      "source": [
        "<a href=\"https://colab.research.google.com/github/chayanroy3/masters_project/blob/main/LLZO_Structures/Occupancy_generator.ipynb\" target=\"_parent\"><img src=\"https://colab.research.google.com/assets/colab-badge.svg\" alt=\"Open In Colab\"/></a>"
      ]
    },
    {
      "cell_type": "code",
      "execution_count": null,
      "metadata": {
        "id": "Kg8z8entxZLu"
      },
      "outputs": [],
      "source": []
    },
    {
      "cell_type": "markdown",
      "source": [
        "This code is to generate POSCAR with diffent occupancies."
      ],
      "metadata": {
        "id": "-A73SbC5gSXH"
      }
    },
    {
      "cell_type": "markdown",
      "source": [],
      "metadata": {
        "id": "y97dSLMkgP1r"
      }
    },
    {
      "cell_type": "code",
      "source": [
        "import random\n",
        "import numpy as np\n",
        "import os\n",
        "class occupancy_generator:\n",
        "    def __init__(self,li1file,li2file,start,stop,total_no_li,total_outputs,previous,path_to_save):\n",
        "        self.li1file=li1file\n",
        "        self.li2file=li2file\n",
        "        self.path=path_to_save\n",
        "        self.start=start\n",
        "        self.stop=stop\n",
        "        self.no_poscars=total_outputs\n",
        "        self.total_li=total_no_li\n",
        "        with open(previous,\"r\") as file:\n",
        "            self.prev=file.read()\n",
        "        with open(li1file,\"r\") as file:\n",
        "            self.data1=np.loadtxt(li1file)\n",
        "            self.data1=self.data1.tolist()\n",
        "        with open(li2file,\"r\") as file:\n",
        "            self.data2=np.loadtxt(li2file)\n",
        "            self.data2=self.data2.tolist()\n",
        "\n",
        "    def occupancies(self,start,end,total):\n",
        "        no_li1=random.randint(start,end)\n",
        "        no_li2=total-no_li1\n",
        "        print(\"Li1=\",no_li1,\" ,Li2=\",no_li2)\n",
        "        return no_li1,no_li2\n",
        "\n",
        "    def select(self,data1,data2,no_li1,no_li2):\n",
        "        li1=random.sample(data1,no_li1)\n",
        "        li2=random.sample(data2,no_li2)\n",
        "        return li1,li2\n",
        "\n",
        "    def read(self,filename):\n",
        "        data=np.loadtxt(filename)\n",
        "        return data\n",
        "\n",
        "    def write(self,li1,li2,filepath):\n",
        "        with open(filepath+\"/POSCAR\",\"w\") as file:\n",
        "            file.write(self.prev)\n",
        "              #file.write(\"\\n\")\n",
        "            for i in li1:\n",
        "                file.write(\"     %1.9f         %1.9f         %1.9f\\n\" %(i[0],i[1],i[2]))\n",
        "            for j in li2:\n",
        "                file.write(\"     %1.9f         %1.9f         %1.9f\\n\" %(j[0],j[1],j[2]))\n",
        "\n",
        "    def main(self,total):\n",
        "        for i in range(total):\n",
        "            file_path=self.path+\"/\"+str(i)\n",
        "            try:\n",
        "                os.makedirs(file_path)\n",
        "            finally:\n",
        "                no_li1,no_li2=self.occupancies(self.start,self.stop,self.total_li)\n",
        "                li1,li2=self.select(self.data1,self.data2,no_li1,no_li2)\n",
        "                print(file_path)\n",
        "                self.write(li1,li2,file_path)\n",
        "\n",
        "\n",
        "\n",
        "\n",
        "\n"
      ],
      "metadata": {
        "id": "uWQvuuaBzdkr"
      },
      "execution_count": null,
      "outputs": []
    }
  ]
}